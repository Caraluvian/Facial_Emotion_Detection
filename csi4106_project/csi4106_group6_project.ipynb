{
 "cells": [
  {
   "cell_type": "markdown",
   "metadata": {},
   "source": [
    "# Project\n",
    "Group Number: 6 \n",
    "|Student Name|Email|Student Number|\n",
    "|---|---|---|\n",
    "|Cara Yuejia Li|yli564@uottawa.ca|300049083|\n",
    "|Tong Zhao|tzhao018@uottawa.ca|300037013|\n",
    "|Daniel Xu|zxu072@uottawa.ca|300030558|"
   ]
  },
  {
   "cell_type": "code",
   "execution_count": 1,
   "metadata": {},
   "outputs": [],
   "source": [
    "import os\n",
    "import cv2\n",
    "import csv\n",
    "import numpy as np\n",
    "import pandas as pd\n",
    "from PIL import Image\n",
    "import matplotlib.pyplot as plt\n",
    "from collections import Counter\n",
    "from imblearn.over_sampling import RandomOverSampler\n",
    "from imblearn.under_sampling import RandomUnderSampler\n",
    "\n",
    "import tensorflow as tf\n",
    "from tensorflow import keras\n",
    "from tensorflow.keras import layers\n",
    "from tensorflow.keras.utils import to_categorical\n",
    "from tensorflow.keras.preprocessing.image import ImageDataGenerator\n",
    "\n",
    "from sklearn.metrics import classification_report, confusion_matrix\n",
    "\n",
    "# for reproducibility purposes\n",
    "SEED = 123\n",
    "tf.random.set_seed(SEED)\n"
   ]
  },
  {
   "cell_type": "markdown",
   "metadata": {},
   "source": [
    "Set target device to GPU"
   ]
  },
  {
   "cell_type": "code",
   "execution_count": 2,
   "metadata": {},
   "outputs": [],
   "source": [
    "import tensorflow as tf\n",
    "from tensorflow.python.keras import backend as K\n",
    "\n",
    "# adjust values to your needs\n",
    "config = tf.compat.v1.ConfigProto( device_count = {'GPU': 1 , 'CPU': 12} )\n",
    "sess = tf.compat.v1.Session(config=config) \n",
    "K.set_session(sess)"
   ]
  },
  {
   "cell_type": "markdown",
   "metadata": {},
   "source": [
    "#### Load Datasets"
   ]
  },
  {
   "cell_type": "code",
   "execution_count": 3,
   "metadata": {},
   "outputs": [
    {
     "name": "stdout",
     "output_type": "stream",
     "text": [
      "The shape of the training data is:  (28709, 2)\n",
      "The shape of the validation data is:  (3589, 2)\n",
      "The shape of the testing data is:  (3589, 2)\n",
      "The head of the training data is: \n",
      "    emotion                                             pixels\n",
      "0    angry  70 80 82 72 58 58 60 63 54 58 60 48 89 115 121...\n",
      "1    angry  151 150 147 155 148 133 111 140 170 174 182 15...\n",
      "2     fear  231 212 156 164 174 138 161 173 182 200 106 38...\n",
      "3      sad  24 32 36 30 32 23 19 20 30 41 21 22 32 34 21 1...\n",
      "4  neutral  4 0 0 0 0 0 0 0 0 0 0 0 3 15 23 28 48 50 58 84...\n",
      "Index(['emotion', 'pixels'], dtype='object')\n"
     ]
    },
    {
     "data": {
      "image/png": "[encoded data removed]",
      "text/plain": [
       "<Figure size 432x288 with 1 Axes>"
      ]
     },
     "metadata": {
      "needs_background": "light"
     },
     "output_type": "display_data"
    }
   ],
   "source": [
    "#read the raw data\n",
    "raw_data = pd.read_csv(\"data/fer2013.csv\", dtype={\"emotion\": str})\n",
    "#raw_data = pd.read_csv(\"data/fer2013.csv\")\n",
    "\n",
    "#raw_data = raw_data.drop(raw_data[raw_data.emotion == \"1\"].index)\n",
    "\n",
    "raw_data.loc[raw_data['emotion'] == '0', 'emotion'] = 'angry'\n",
    "raw_data.loc[raw_data['emotion'] == '1', 'emotion'] = 'disgust'\n",
    "raw_data.loc[raw_data['emotion'] == '2', 'emotion'] = 'fear'\n",
    "raw_data.loc[raw_data['emotion'] == '3', 'emotion'] = 'happy'\n",
    "raw_data.loc[raw_data['emotion'] == '4', 'emotion'] = 'sad'\n",
    "raw_data.loc[raw_data['emotion'] == '5', 'emotion'] = 'surprise'\n",
    "raw_data.loc[raw_data['emotion'] == '6', 'emotion'] = 'neutral'\n",
    "\n",
    "\n",
    "#split data into training, validation and testing data\n",
    "tmp_df = raw_data.groupby(raw_data['Usage'])\n",
    "train_df = tmp_df.get_group(\"Training\")\n",
    "val_df = tmp_df.get_group(\"PublicTest\")\n",
    "test_df = tmp_df.get_group(\"PrivateTest\")\n",
    "\n",
    "# drop usage column\n",
    "train_df = train_df.drop(columns=[\"Usage\"])\n",
    "val_df = val_df.drop(columns=[\"Usage\"])\n",
    "test_df = test_df.drop(columns=[\"Usage\"])\n",
    "\n",
    "#print the shape of the data\n",
    "print(\"The shape of the training data is: \", train_df.shape)\n",
    "print(\"The shape of the validation data is: \", val_df.shape)\n",
    "print(\"The shape of the testing data is: \", test_df.shape)\n",
    "\n",
    "#print the head of the data\n",
    "print(\"The head of the training data is: \\n\", train_df.head())\n",
    "\n",
    "#print column names\n",
    "print(train_df.columns)\n",
    "\n",
    "#plot the histogram of the emotion data\n",
    "plt.hist(train_df.emotion, bins=20)\n",
    "plt.show()"
   ]
  },
  {
   "cell_type": "code",
   "execution_count": 4,
   "metadata": {},
   "outputs": [
    {
     "data": {
      "text/html": [
       "<div>\n",
       "<style scoped>\n",
       "    .dataframe tbody tr th:only-of-type {\n",
       "        vertical-align: middle;\n",
       "    }\n",
       "\n",
       "    .dataframe tbody tr th {\n",
       "        vertical-align: top;\n",
       "    }\n",
       "\n",
       "    .dataframe thead th {\n",
       "        text-align: right;\n",
       "    }\n",
       "</style>\n",
       "<table border=\"1\" class=\"dataframe\">\n",
       "  <thead>\n",
       "    <tr style=\"text-align: right;\">\n",
       "      <th></th>\n",
       "      <th>emotion</th>\n",
       "      <th>pixels</th>\n",
       "    </tr>\n",
       "  </thead>\n",
       "  <tbody>\n",
       "    <tr>\n",
       "      <th>0</th>\n",
       "      <td>angry</td>\n",
       "      <td>70 80 82 72 58 58 60 63 54 58 60 48 89 115 121...</td>\n",
       "    </tr>\n",
       "    <tr>\n",
       "      <th>1</th>\n",
       "      <td>angry</td>\n",
       "      <td>151 150 147 155 148 133 111 140 170 174 182 15...</td>\n",
       "    </tr>\n",
       "    <tr>\n",
       "      <th>2</th>\n",
       "      <td>fear</td>\n",
       "      <td>231 212 156 164 174 138 161 173 182 200 106 38...</td>\n",
       "    </tr>\n",
       "    <tr>\n",
       "      <th>3</th>\n",
       "      <td>sad</td>\n",
       "      <td>24 32 36 30 32 23 19 20 30 41 21 22 32 34 21 1...</td>\n",
       "    </tr>\n",
       "    <tr>\n",
       "      <th>4</th>\n",
       "      <td>neutral</td>\n",
       "      <td>4 0 0 0 0 0 0 0 0 0 0 0 3 15 23 28 48 50 58 84...</td>\n",
       "    </tr>\n",
       "  </tbody>\n",
       "</table>\n",
       "</div>"
      ],
      "text/plain": [
       "   emotion                                             pixels\n",
       "0    angry  70 80 82 72 58 58 60 63 54 58 60 48 89 115 121...\n",
       "1    angry  151 150 147 155 148 133 111 140 170 174 182 15...\n",
       "2     fear  231 212 156 164 174 138 161 173 182 200 106 38...\n",
       "3      sad  24 32 36 30 32 23 19 20 30 41 21 22 32 34 21 1...\n",
       "4  neutral  4 0 0 0 0 0 0 0 0 0 0 0 3 15 23 28 48 50 58 84..."
      ]
     },
     "execution_count": 4,
     "metadata": {},
     "output_type": "execute_result"
    }
   ],
   "source": [
    "train_df.head()"
   ]
  },
  {
   "cell_type": "markdown",
   "metadata": {},
   "source": [
    "#### Data Oversampling and Undersampling"
   ]
  },
  {
   "cell_type": "code",
   "execution_count": 5,
   "metadata": {},
   "outputs": [
    {
     "name": "stdout",
     "output_type": "stream",
     "text": [
      "(28709, 2)\n",
      "(35000, 2)\n",
      "New class distribution is\n",
      "[('angry', 5000), ('disgust', 5000), ('fear', 5000), ('happy', 5000), ('neutral', 5000), ('sad', 5000), ('surprise', 5000)]\n",
      "  emotion                                             pixels\n",
      "0   angry  70 80 82 72 58 58 60 63 54 58 60 48 89 115 121...\n",
      "1   angry  151 150 147 155 148 133 111 140 170 174 182 15...\n",
      "2   angry  30 24 21 23 25 25 49 67 84 103 120 125 130 139...\n",
      "3   angry  123 125 124 142 209 226 234 236 231 232 235 22...\n",
      "4   angry  8 9 14 21 26 32 37 46 52 62 72 70 71 73 76 83 ...\n"
     ]
    },
    {
     "data": {
      "image/png": "[encoded data removed]",
      "text/plain": [
       "<Figure size 432x288 with 1 Axes>"
      ]
     },
     "metadata": {
      "needs_background": "light"
     },
     "output_type": "display_data"
    }
   ],
   "source": [
    "X_train, y_train = train_df[\"pixels\"].values.reshape(-1,1), train_df[\"emotion\"]\n",
    "\n",
    "#undersample the data\n",
    "undersampler = RandomUnderSampler(sampling_strategy={'happy': 5000})\n",
    "X_over, y_over = undersampler.fit_resample(X_train, y_train)\n",
    "\n",
    "# #oversample the data\n",
    "oversampler = RandomOverSampler(sampling_strategy={'disgust':5000, 'angry': 5000, 'fear': 5000, 'sad': 5000, 'surprise': 5000, 'neutral': 5000})\n",
    "X_over, y_over = oversampler.fit_resample(X_over, y_over)\n",
    "\n",
    "print(train_df.shape)\n",
    "\n",
    "#Create a dataframe with the oversampled data\n",
    "new_train_df = pd.DataFrame(data=y_over, columns=[\"emotion\"])\n",
    "new_train_df[\"pixels\"] = X_over\n",
    "#new_train_df = new_train_df.sample(frac=1).reset_index(drop=True)\n",
    "print(new_train_df.shape)\n",
    "print(f\"New class distribution is\\n{sorted(Counter(new_train_df['emotion']).items())}\")\n",
    "print(new_train_df.head())\n",
    "\n",
    "#plot the histogram of the emotion data after solving the data imbalance problem\n",
    "plt.hist(new_train_df.emotion, bins=20)\n",
    "plt.show()\n"
   ]
  },
  {
   "cell_type": "code",
   "execution_count": 6,
   "metadata": {},
   "outputs": [],
   "source": [
    "# create a new column called \"image_name\"\n",
    "def insert_img_name(df):\n",
    "    i = 1\n",
    "    img_name_ls = []\n",
    "    while i < df.shape[0] + 1:\n",
    "        img_name = \"Data_\" + str(i) + \".jpg\"\n",
    "        img_name_ls.append(img_name)\n",
    "        i += 1\n",
    "    df.insert(2, \"image_name\", img_name_ls)\n",
    "\n",
    "insert_img_name(new_train_df)\n",
    "insert_img_name(val_df)\n",
    "insert_img_name(test_df)\n",
    "\n",
    "#save the dataframe as csv file\n",
    "new_train_df.to_csv(\"data/new_train.csv\", index=False)\n",
    "val_df.to_csv(\"data/val.csv\", index=False)\n",
    "test_df.to_csv(\"data/test.csv\", index=False)"
   ]
  },
  {
   "cell_type": "markdown",
   "metadata": {},
   "source": [
    "#### Convert Pixels To Images"
   ]
  },
  {
   "cell_type": "code",
   "execution_count": 7,
   "metadata": {},
   "outputs": [
    {
     "name": "stdout",
     "output_type": "stream",
     "text": [
      "(35000, 48, 48, 3)\n",
      "(3589, 48, 48, 3)\n",
      "(3589, 48, 48, 3)\n"
     ]
    }
   ],
   "source": [
    "#split the pixels and save as array\n",
    "def p_to_arr(pixels):\n",
    "    arr = np.array(pixels.split(),'uint8')\n",
    "    return arr\n",
    "\n",
    "#reshape the image\n",
    "def reshape_img(data):\n",
    "    image = np.reshape(data['pixels'].to_list(),(data.shape[0],48,48,1))\n",
    "    image = np.repeat(image, 3, -1)\n",
    "    return image\n",
    "\n",
    "# new_train_df.loc[new_train_df['pixels'] == '*', 'pixels'] = new_train_df['pixels'].apply(p_to_arr)\n",
    "# val_df.loc[val_df['pixels'] == '*', 'pixels'] = val_df['pixels'].apply(p_to_arr)\n",
    "# test_df.loc[test_df['pixels'] == '*', 'pixels'] = test_df['pixels'].apply(p_to_arr)\n",
    "\n",
    "#apply the function to the dataframe\n",
    "new_train_df['pixels'] = new_train_df['pixels'].apply(p_to_arr)\n",
    "val_df['pixels'] = val_df['pixels'].apply(p_to_arr)\n",
    "test_df['pixels']  = test_df['pixels'].apply(p_to_arr)\n",
    "\n",
    "\n",
    "#reshape the image\n",
    "re_train = reshape_img(new_train_df)\n",
    "print(re_train.shape)\n",
    "\n",
    "re_val = reshape_img(val_df)\n",
    "print(re_val.shape)\n",
    "\n",
    "re_test = reshape_img(test_df)\n",
    "print(re_test.shape)\n",
    "\n",
    "#save the reshaped images and name them as \"Data_1.jpg\", \"Data_2.jpg\", etc.\n",
    "def save_as_dir(dir, data):\n",
    "    num = np.arange(1,1000000)\n",
    "    for i in range(len(data)):\n",
    "        namefile = \"Data_\"+ str(num[i]) +\".jpg\"\n",
    "        cv2.imwrite(os.path.join(dir,namefile), data[i])\n",
    "\n",
    "#make a directory to save the images\n",
    "dataset_dir = \"./dataset\"\n",
    "train_dir = \"./dataset/train\"\n",
    "val_dir = \"./dataset/validation\"\n",
    "test_dir = \"./dataset/test\"\n",
    "\n",
    "os.makedirs(dataset_dir,exist_ok=True)\n",
    "os.makedirs(train_dir,exist_ok=True)\n",
    "os.makedirs(val_dir,exist_ok=True)\n",
    "os.makedirs(test_dir,exist_ok=True)\n",
    "\n",
    "#save the images\n",
    "save_as_dir(train_dir, re_train)\n",
    "save_as_dir(val_dir, re_val)\n",
    "save_as_dir(test_dir, re_test)"
   ]
  },
  {
   "cell_type": "markdown",
   "metadata": {},
   "source": [
    "#### Create Image Generator"
   ]
  },
  {
   "cell_type": "code",
   "execution_count": 8,
   "metadata": {},
   "outputs": [
    {
     "name": "stdout",
     "output_type": "stream",
     "text": [
      "Found 35000 validated image filenames belonging to 7 classes.\n",
      "Found 3589 validated image filenames belonging to 7 classes.\n",
      "Found 3589 validated image filenames belonging to 7 classes.\n"
     ]
    }
   ],
   "source": [
    "batch_size = 128\n",
    "\n",
    "#create the training generator\n",
    "train_generator = ImageDataGenerator(\n",
    "    rescale=1./255,\n",
    "    rotation_range=20,\n",
    "    width_shift_range=0.2,\n",
    "    height_shift_range=0.2,\n",
    "    shear_range=0.2,\n",
    "    zoom_range=0.2,\n",
    "    horizontal_flip=True,\n",
    "    fill_mode='nearest'\n",
    ")\n",
    "\n",
    "train_generator = train_generator.flow_from_dataframe(\n",
    "    dataframe = new_train_df,\n",
    "    directory = 'dataset/train/',\n",
    "    x_col = 'image_name',\n",
    "    y_col = 'emotion',\n",
    "    batch_size = batch_size,\n",
    "    target_size = (48,48),\n",
    "    seed = 42,\n",
    "    color_mode = 'rgb',\n",
    "    class_mode = 'categorical'\n",
    ")\n",
    "\n",
    "#create the validation generator\n",
    "val_generator = ImageDataGenerator(rescale=1./255)\n",
    "\n",
    "val_generator = val_generator.flow_from_dataframe(\n",
    "    dataframe = val_df,\n",
    "    directory = 'dataset/validation/',\n",
    "    x_col = 'image_name',\n",
    "    y_col = 'emotion',\n",
    "    batch_size = batch_size,\n",
    "    target_size = (48,48),\n",
    "    seed = 42,\n",
    "    class_mode = 'categorical',\n",
    "    color_mode = 'rgb',\n",
    "    shuffle = False\n",
    ")\n",
    "\n",
    "\n",
    "#create the test generator\n",
    "test_generator = ImageDataGenerator(rescale=1./255)\n",
    "\n",
    "test_generator = test_generator.flow_from_dataframe(\n",
    "    dataframe = test_df,\n",
    "    directory = 'dataset/test/',\n",
    "    x_col = 'image_name',\n",
    "    y_col = 'emotion',\n",
    "    batch_size = batch_size,\n",
    "    target_size = (48,48),\n",
    "    seed = 42,\n",
    "    class_mode = 'categorical',\n",
    "    color_mode = 'rgb',\n",
    "    shuffle = False\n",
    ")\n"
   ]
  },
  {
   "cell_type": "markdown",
   "metadata": {},
   "source": [
    "#### Show Sample Image"
   ]
  },
  {
   "cell_type": "code",
   "execution_count": 9,
   "metadata": {},
   "outputs": [
    {
     "data": {
      "image/png": "[encoded data removed]",
      "text/plain": [
       "<Figure size 432x288 with 1 Axes>"
      ]
     },
     "metadata": {
      "needs_background": "light"
     },
     "output_type": "display_data"
    },
    {
     "data": {
      "text/plain": [
       "(None, 'angry')"
      ]
     },
     "execution_count": 9,
     "metadata": {},
     "output_type": "execute_result"
    }
   ],
   "source": [
    "#print the first image in the training data\n",
    "def show_image(image):\n",
    "    img = image.reshape(48,48,1)\n",
    "    plt.imshow(img, cmap= \"gray\", interpolation=\"nearest\")\n",
    "    plt.show()\n",
    "\n",
    "# split the pixels and rescale the first image\n",
    "fir_pixel, label = new_train_df[\"pixels\"][0], new_train_df[\"emotion\"][0]\n",
    "fir_img = np.array(fir_pixel, 'float32')\n",
    "fir_img /= 255\n",
    "\n",
    "#show the first image\n",
    "show_image(fir_img), label"
   ]
  },
  {
   "cell_type": "markdown",
   "metadata": {},
   "source": [
    "#### Create the Model"
   ]
  },
  {
   "cell_type": "code",
   "execution_count": 10,
   "metadata": {},
   "outputs": [
    {
     "name": "stdout",
     "output_type": "stream",
     "text": [
      "Model: \"model\"\n",
      "_________________________________________________________________\n",
      "Layer (type)                 Output Shape              Param #   \n",
      "=================================================================\n",
      "input_1 (InputLayer)         [(None, 48, 48, 3)]       0         \n",
      "_________________________________________________________________\n",
      "conv2d (Conv2D)              (None, 48, 48, 32)        896       \n",
      "_________________________________________________________________\n",
      "conv2d_1 (Conv2D)            (None, 48, 48, 32)        9248      \n",
      "_________________________________________________________________\n",
      "batch_normalization (BatchNo (None, 48, 48, 32)        128       \n",
      "_________________________________________________________________\n",
      "max_pooling2d (MaxPooling2D) (None, 24, 24, 32)        0         \n",
      "_________________________________________________________________\n",
      "conv2d_2 (Conv2D)            (None, 24, 24, 64)        18496     \n",
      "_________________________________________________________________\n",
      "conv2d_3 (Conv2D)            (None, 24, 24, 64)        36928     \n",
      "_________________________________________________________________\n",
      "batch_normalization_1 (Batch (None, 24, 24, 64)        256       \n",
      "_________________________________________________________________\n",
      "max_pooling2d_1 (MaxPooling2 (None, 12, 12, 64)        0         \n",
      "_________________________________________________________________\n",
      "conv2d_4 (Conv2D)            (None, 12, 12, 128)       73856     \n",
      "_________________________________________________________________\n",
      "conv2d_5 (Conv2D)            (None, 12, 12, 128)       147584    \n",
      "_________________________________________________________________\n",
      "batch_normalization_2 (Batch (None, 12, 12, 128)       512       \n",
      "_________________________________________________________________\n",
      "max_pooling2d_2 (MaxPooling2 (None, 6, 6, 128)         0         \n",
      "_________________________________________________________________\n",
      "conv2d_6 (Conv2D)            (None, 6, 6, 256)         295168    \n",
      "_________________________________________________________________\n",
      "conv2d_7 (Conv2D)            (None, 6, 6, 256)         590080    \n",
      "_________________________________________________________________\n",
      "batch_normalization_3 (Batch (None, 6, 6, 256)         1024      \n",
      "_________________________________________________________________\n",
      "max_pooling2d_3 (MaxPooling2 (None, 3, 3, 256)         0         \n",
      "_________________________________________________________________\n",
      "flatten (Flatten)            (None, 2304)              0         \n",
      "_________________________________________________________________\n",
      "dropout (Dropout)            (None, 2304)              0         \n",
      "_________________________________________________________________\n",
      "dense (Dense)                (None, 1024)              2360320   \n",
      "_________________________________________________________________\n",
      "dropout_1 (Dropout)          (None, 1024)              0         \n",
      "_________________________________________________________________\n",
      "dense_1 (Dense)              (None, 512)               524800    \n",
      "_________________________________________________________________\n",
      "dropout_2 (Dropout)          (None, 512)               0         \n",
      "_________________________________________________________________\n",
      "dense_2 (Dense)              (None, 256)               131328    \n",
      "_________________________________________________________________\n",
      "emotion (Dense)              (None, 7)                 1799      \n",
      "=================================================================\n",
      "Total params: 4,192,423\n",
      "Trainable params: 4,191,463\n",
      "Non-trainable params: 960\n",
      "_________________________________________________________________\n",
      "None\n",
      "Epoch 1/30\n",
      "273/273 [==============================] - 56s 192ms/step - loss: 2.1024 - accuracy: 0.1784 - val_loss: 1.9977 - val_accuracy: 0.2379\n",
      "INFO:tensorflow:Assets written to: models\\assets\n",
      "Epoch 2/30\n",
      "273/273 [==============================] - 22s 81ms/step - loss: 1.7988 - accuracy: 0.2746 - val_loss: 1.6969 - val_accuracy: 0.2792\n",
      "INFO:tensorflow:Assets written to: models\\assets\n",
      "Epoch 3/30\n",
      "273/273 [==============================] - 23s 82ms/step - loss: 1.6323 - accuracy: 0.3692 - val_loss: 1.5694 - val_accuracy: 0.3931\n",
      "INFO:tensorflow:Assets written to: models\\assets\n",
      "Epoch 4/30\n",
      "273/273 [==============================] - 22s 82ms/step - loss: 1.4873 - accuracy: 0.4334 - val_loss: 1.4641 - val_accuracy: 0.4352\n",
      "INFO:tensorflow:Assets written to: models\\assets\n",
      "Epoch 5/30\n",
      "273/273 [==============================] - 22s 81ms/step - loss: 1.3969 - accuracy: 0.4731 - val_loss: 1.5627 - val_accuracy: 0.4366\n",
      "Epoch 6/30\n",
      "273/273 [==============================] - 23s 82ms/step - loss: 1.3271 - accuracy: 0.4990 - val_loss: 1.3320 - val_accuracy: 0.4859\n",
      "INFO:tensorflow:Assets written to: models\\assets\n",
      "Epoch 7/30\n",
      "273/273 [==============================] - 22s 82ms/step - loss: 1.2815 - accuracy: 0.5205 - val_loss: 1.3230 - val_accuracy: 0.5063\n",
      "INFO:tensorflow:Assets written to: models\\assets\n",
      "Epoch 8/30\n",
      "273/273 [==============================] - 22s 81ms/step - loss: 1.2495 - accuracy: 0.5369 - val_loss: 1.2794 - val_accuracy: 0.5096\n",
      "INFO:tensorflow:Assets written to: models\\assets\n",
      "Epoch 9/30\n",
      "273/273 [==============================] - 23s 84ms/step - loss: 1.2176 - accuracy: 0.5437 - val_loss: 1.2802 - val_accuracy: 0.5180\n",
      "Epoch 10/30\n",
      "273/273 [==============================] - 22s 82ms/step - loss: 1.2064 - accuracy: 0.5499 - val_loss: 1.1961 - val_accuracy: 0.5375\n",
      "INFO:tensorflow:Assets written to: models\\assets\n",
      "Epoch 11/30\n",
      "273/273 [==============================] - 22s 82ms/step - loss: 1.1756 - accuracy: 0.5621 - val_loss: 1.2270 - val_accuracy: 0.5269\n",
      "Epoch 12/30\n",
      "273/273 [==============================] - 22s 82ms/step - loss: 1.1639 - accuracy: 0.5638 - val_loss: 1.1469 - val_accuracy: 0.5662\n",
      "INFO:tensorflow:Assets written to: models\\assets\n",
      "Epoch 13/30\n",
      "273/273 [==============================] - 24s 86ms/step - loss: 1.1361 - accuracy: 0.5793 - val_loss: 1.2539 - val_accuracy: 0.5394\n",
      "Epoch 14/30\n",
      "273/273 [==============================] - 23s 83ms/step - loss: 1.1330 - accuracy: 0.5854 - val_loss: 1.1642 - val_accuracy: 0.5517\n",
      "\n",
      "Epoch 00014: ReduceLROnPlateau reducing learning rate to 0.00010000000474974513.\n",
      "Epoch 15/30\n",
      "273/273 [==============================] - 23s 83ms/step - loss: 1.0283 - accuracy: 0.6133 - val_loss: 1.0706 - val_accuracy: 0.5943\n",
      "INFO:tensorflow:Assets written to: models\\assets\n",
      "Epoch 16/30\n",
      "273/273 [==============================] - 23s 83ms/step - loss: 0.9996 - accuracy: 0.6242 - val_loss: 1.0676 - val_accuracy: 0.5887\n",
      "INFO:tensorflow:Assets written to: models\\assets\n",
      "Epoch 17/30\n",
      "273/273 [==============================] - 23s 84ms/step - loss: 0.9944 - accuracy: 0.6244 - val_loss: 1.0555 - val_accuracy: 0.5985\n",
      "INFO:tensorflow:Assets written to: models\\assets\n",
      "Epoch 18/30\n",
      "273/273 [==============================] - 23s 83ms/step - loss: 0.9878 - accuracy: 0.6276 - val_loss: 1.0859 - val_accuracy: 0.5896\n",
      "Epoch 19/30\n",
      "273/273 [==============================] - 23s 83ms/step - loss: 0.9771 - accuracy: 0.6310 - val_loss: 1.0958 - val_accuracy: 0.5882\n",
      "\n",
      "Epoch 00019: ReduceLROnPlateau reducing learning rate to 1.0000000474974514e-05.\n",
      "Epoch 20/30\n",
      "273/273 [==============================] - 22s 82ms/step - loss: 0.9875 - accuracy: 0.6331 - val_loss: 1.0581 - val_accuracy: 0.6018\n",
      "Epoch 21/30\n",
      "273/273 [==============================] - 22s 82ms/step - loss: 0.9717 - accuracy: 0.6358 - val_loss: 1.0550 - val_accuracy: 0.6041\n",
      "INFO:tensorflow:Assets written to: models\\assets\n",
      "Epoch 22/30\n",
      "273/273 [==============================] - 22s 82ms/step - loss: 0.9714 - accuracy: 0.6337 - val_loss: 1.0502 - val_accuracy: 0.6032\n",
      "INFO:tensorflow:Assets written to: models\\assets\n",
      "Epoch 23/30\n",
      "273/273 [==============================] - 23s 83ms/step - loss: 0.9752 - accuracy: 0.6341 - val_loss: 1.0536 - val_accuracy: 0.6021\n",
      "Epoch 24/30\n",
      "273/273 [==============================] - 23s 82ms/step - loss: 0.9716 - accuracy: 0.6355 - val_loss: 1.0584 - val_accuracy: 0.6016\n",
      "\n",
      "Epoch 00024: ReduceLROnPlateau reducing learning rate to 1e-05.\n",
      "Epoch 25/30\n",
      "273/273 [==============================] - 22s 82ms/step - loss: 0.9720 - accuracy: 0.6374 - val_loss: 1.0509 - val_accuracy: 0.6024\n",
      "Epoch 26/30\n",
      "273/273 [==============================] - 23s 82ms/step - loss: 0.9734 - accuracy: 0.6358 - val_loss: 1.0496 - val_accuracy: 0.6041\n",
      "INFO:tensorflow:Assets written to: models\\assets\n",
      "Epoch 27/30\n",
      "273/273 [==============================] - 23s 85ms/step - loss: 0.9689 - accuracy: 0.6359 - val_loss: 1.0498 - val_accuracy: 0.6035\n",
      "Epoch 28/30\n",
      "273/273 [==============================] - 23s 84ms/step - loss: 0.9617 - accuracy: 0.6364 - val_loss: 1.0527 - val_accuracy: 0.6021\n",
      "Epoch 29/30\n",
      "273/273 [==============================] - 23s 84ms/step - loss: 0.9643 - accuracy: 0.6359 - val_loss: 1.0491 - val_accuracy: 0.6043\n",
      "INFO:tensorflow:Assets written to: models\\assets\n",
      "Epoch 30/30\n",
      "273/273 [==============================] - 23s 84ms/step - loss: 0.9670 - accuracy: 0.6359 - val_loss: 1.0541 - val_accuracy: 0.6041\n"
     ]
    },
    {
     "data": {
      "text/plain": [
       "<tensorflow.python.keras.callbacks.History at 0x2028985fdf0>"
      ]
     },
     "execution_count": 10,
     "metadata": {},
     "output_type": "execute_result"
    }
   ],
   "source": [
    "# specify the model input with the required shape \n",
    "input_shape = keras.Input(shape=(48,48,3))\n",
    "\n",
    "#create the model\n",
    "#convolutional layer and max pooling layer\n",
    "x = layers.Conv2D(32, (3,3), padding = 'same' , activation = 'relu')(input_shape)\n",
    "x = layers.Conv2D(32, (3,3), padding = 'same', activation='relu')(x)\n",
    "x = layers.BatchNormalization()(x)\n",
    "x = layers.MaxPooling2D((2,2), padding='same')(x)\n",
    "\n",
    "x = layers.Conv2D(64, (3,3), padding = 'same', activation = 'relu')(x)\n",
    "x = layers.Conv2D(64, (3,3), padding = 'same', activation='relu')(x)\n",
    "x = layers.BatchNormalization()(x)\n",
    "x = layers.MaxPooling2D((2,2), padding='same')(x)\n",
    "\n",
    "x = layers.Conv2D(128, (3,3), padding = 'same', activation='relu')(x)\n",
    "x = layers.Conv2D(128, (3,3), padding = 'same', activation='relu')(x)\n",
    "x = layers.BatchNormalization()(x)\n",
    "x = layers.MaxPooling2D((2,2), padding='same')(x)\n",
    "\n",
    "x = layers.Conv2D(256, (3,3), padding = 'same', activation='relu')(x)\n",
    "x = layers.Conv2D(256, (3,3), padding = 'same', activation='relu')(x)\n",
    "x = layers.BatchNormalization()(x)\n",
    "x = layers.MaxPooling2D((2,2), padding='same')(x)\n",
    "\n",
    "#fully connected layer\n",
    "x = layers.Flatten()(x)\n",
    "x = layers.Dropout(0.5)(x)\n",
    "\n",
    "# x = layers.Dense(2048, activation='relu')(x)\n",
    "# x = layers.Dropout(0.2)(x)\n",
    "x = layers.Dense(1024, activation='relu')(x)\n",
    "x = layers.Dropout(0.2)(x)\n",
    "x = layers.Dense(512, activation = 'relu')(x)\n",
    "x = layers.Dropout(0.2)(x)\n",
    "x = layers.Dense(256, activation = 'relu')(x)\n",
    "\n",
    "y = layers.Dense(7, activation='softmax', name = 'emotion')(x)\n",
    "\n",
    "#create the model with the required input and the outputs\n",
    "model = keras.Model(inputs=input_shape, outputs=y)\n",
    "\n",
    "#print the model summary\n",
    "print(model.summary())\n",
    "\n",
    "#Instantiate the optimizer with the learning rate.\n",
    "optimizer = keras.optimizers.RMSprop(learning_rate=1e-3)\n",
    "\n",
    "#compile the model\n",
    "model.compile(optimizer=optimizer, loss=['categorical_crossentropy'], metrics=['accuracy'])\n",
    "\n",
    "#Define the callback functions\n",
    "early_stopping = keras.callbacks.EarlyStopping(monitor='val_loss', patience=10)\n",
    "\n",
    "#Model checkpoint callback\n",
    "checkpoint = keras.callbacks.ModelCheckpoint(\n",
    "    filepath = 'models',\n",
    "    monitor = 'val_loss',\n",
    "    save_best_only = True\n",
    ")\n",
    "\n",
    "#ReduceLROnPlateau callback\n",
    "reduce_lr = keras.callbacks.ReduceLROnPlateau(\n",
    "    monitor = 'val_loss',\n",
    "    factor = 0.1,\n",
    "    patience = 2,\n",
    "    min_lr = 1e-5,\n",
    "    verbose = 1\n",
    ")\n",
    "\n",
    "#fit the model\n",
    "model.fit(\n",
    "    train_generator,\n",
    "    epochs = 30,\n",
    "    validation_data = val_generator,\n",
    "    callbacks = [early_stopping, checkpoint, reduce_lr],\n",
    "    steps_per_epoch = len(new_train_df)/batch_size,\n",
    "    validation_steps = len(val_df)/batch_size\n",
    ")\n"
   ]
  },
  {
   "cell_type": "code",
   "execution_count": 11,
   "metadata": {},
   "outputs": [
    {
     "name": "stdout",
     "output_type": "stream",
     "text": [
      "29/29 [==============================] - 1s 26ms/step - loss: 0.9985 - accuracy: 0.6141\n",
      "[0.9985158443450928, 0.6140986084938049]\n",
      "loss: 0.9985158443450928, accuracy: 0.6140986084938049\n"
     ]
    }
   ],
   "source": [
    "#evaluate the model\n",
    "test_generator.reset()\n",
    "test_evals = model.evaluate(test_generator)\n",
    "print(test_evals)\n",
    "print(f\"loss: {test_evals[0]}, accuracy: {test_evals[1]}\")\n"
   ]
  },
  {
   "cell_type": "code",
   "execution_count": 12,
   "metadata": {},
   "outputs": [
    {
     "name": "stdout",
     "output_type": "stream",
     "text": [
      "              precision    recall  f1-score   support\n",
      "\n",
      "       angry       0.49      0.61      0.54       491\n",
      "     disgust       0.49      0.71      0.58        55\n",
      "        fear       0.49      0.23      0.32       528\n",
      "       happy       0.91      0.79      0.84       879\n",
      "         sad       0.54      0.75      0.63       626\n",
      "    surprise       0.48      0.40      0.44       594\n",
      "     neutral       0.65      0.82      0.73       416\n",
      "\n",
      "    accuracy                           0.61      3589\n",
      "   macro avg       0.58      0.62      0.58      3589\n",
      "weighted avg       0.62      0.61      0.60      3589\n",
      "\n"
     ]
    }
   ],
   "source": [
    "#prediction\n",
    "emotions = {0: 'angry', 1:'disgust'  ,2: 'fear', 3: 'happy', 4: 'sad', 5: 'surprise', 6: 'neutral'}\n",
    "test_generator.reset()\n",
    "predictions = model.predict(test_generator)\n",
    "#print(predictions)\n",
    "predictions = np.argmax(predictions, axis=1)\n",
    "#predictions = [emotions[i] for i in predictions]\n",
    "\n",
    "cr = classification_report(test_generator.classes, predictions, target_names=list(emotions.values()))\n",
    "print(cr)\n"
   ]
  },
  {
   "cell_type": "code",
   "execution_count": 28,
   "metadata": {},
   "outputs": [
    {
     "data": {
      "image/png": "[encoded data removed]",
      "text/plain": [
       "<Figure size 720x720 with 2 Axes>"
      ]
     },
     "metadata": {
      "needs_background": "light"
     },
     "output_type": "display_data"
    }
   ],
   "source": [
    "from sklearn.metrics import confusion_matrix, ConfusionMatrixDisplay\n",
    "\n",
    "\n",
    "cm = confusion_matrix(test_generator.classes, predictions, labels=list(emotions.keys()))\n",
    "disp = ConfusionMatrixDisplay(confusion_matrix=cm, display_labels=list(emotions.values()))\n",
    "\n",
    "#set figure size\n",
    "fig, ax = plt.subplots(figsize=(10,10))\n",
    "\n",
    "disp = disp.plot(include_values=True, cmap='viridis', ax=ax)\n"
   ]
  },
  {
   "cell_type": "code",
   "execution_count": 13,
   "metadata": {},
   "outputs": [],
   "source": [
    "#save the model to disk\n",
    "model.save('model.h5')\n",
    "\n",
    "#load the model from disk\n",
    "model = keras.models.load_model('model.h5')"
   ]
  },
  {
   "cell_type": "markdown",
   "metadata": {},
   "source": [
    "### Pretrained Models"
   ]
  },
  {
   "cell_type": "code",
   "execution_count": 16,
   "metadata": {},
   "outputs": [
    {
     "name": "stdout",
     "output_type": "stream",
     "text": [
      "Epoch 1/10\n",
      "273/273 [==============================] - 28s 87ms/step - loss: 1.7844 - accuracy: 0.2904 - val_loss: 2.3545 - val_accuracy: 0.1811\n",
      "INFO:tensorflow:Assets written to: models\\assets\n",
      "Epoch 2/10\n",
      "273/273 [==============================] - 23s 85ms/step - loss: 1.5241 - accuracy: 0.4197 - val_loss: 2.7461 - val_accuracy: 0.2432\n",
      "Epoch 3/10\n",
      "273/273 [==============================] - 23s 86ms/step - loss: 1.4184 - accuracy: 0.4652 - val_loss: 2.4022 - val_accuracy: 0.3647\n",
      "\n",
      "Epoch 00003: ReduceLROnPlateau reducing learning rate to 0.00010000000474974513.\n",
      "Epoch 4/10\n",
      "273/273 [==============================] - 23s 85ms/step - loss: 1.2998 - accuracy: 0.5059 - val_loss: 2.1306 - val_accuracy: 0.3795\n",
      "INFO:tensorflow:Assets written to: models\\assets\n",
      "Epoch 5/10\n",
      "273/273 [==============================] - 23s 85ms/step - loss: 1.2472 - accuracy: 0.5245 - val_loss: 1.7187 - val_accuracy: 0.4257\n",
      "INFO:tensorflow:Assets written to: models\\assets\n",
      "Epoch 6/10\n",
      "273/273 [==============================] - 24s 85ms/step - loss: 1.2148 - accuracy: 0.5373 - val_loss: 1.3986 - val_accuracy: 0.4556\n",
      "INFO:tensorflow:Assets written to: models\\assets\n",
      "Epoch 7/10\n",
      "273/273 [==============================] - 84s 305ms/step - loss: 1.1791 - accuracy: 0.5542 - val_loss: 1.3058 - val_accuracy: 0.4990\n",
      "INFO:tensorflow:Assets written to: models\\assets\n",
      "Epoch 8/10\n",
      "273/273 [==============================] - 24s 86ms/step - loss: 1.1581 - accuracy: 0.5595 - val_loss: 1.3051 - val_accuracy: 0.5071\n",
      "INFO:tensorflow:Assets written to: models\\assets\n",
      "Epoch 9/10\n",
      "273/273 [==============================] - 24s 86ms/step - loss: 1.1329 - accuracy: 0.5711 - val_loss: 1.3367 - val_accuracy: 0.5074\n",
      "Epoch 10/10\n",
      "273/273 [==============================] - 24s 86ms/step - loss: 1.1125 - accuracy: 0.5785 - val_loss: 1.3324 - val_accuracy: 0.5063\n",
      "\n",
      "Epoch 00010: ReduceLROnPlateau reducing learning rate to 1.0000000474974514e-05.\n"
     ]
    },
    {
     "data": {
      "text/plain": [
       "<tensorflow.python.keras.callbacks.History at 0x205ce312fd0>"
      ]
     },
     "execution_count": 16,
     "metadata": {},
     "output_type": "execute_result"
    }
   ],
   "source": [
    "nas_net = tf.keras.applications.MobileNetV2()\n",
    "base_input = nas_net.layers[0].input\n",
    "base_output = nas_net.layers[-2].output\n",
    "final_output = layers.Dense(128)(base_output) \n",
    "final_output = layers.Activation('relu')(final_output) \n",
    "final_output = layers.Dense(64)(final_output)\n",
    "final_output = layers.Activation('relu')(final_output)\n",
    "final_output = layers.Dense(7, activation='softmax')(final_output) \n",
    "model_nas_net = keras.Model(inputs = base_input, outputs = final_output)\n",
    "model_nas_net.compile(loss='categorical_crossentropy', optimizer = 'adam', metrics = ['accuracy'])\n",
    "#Define the callback functions\n",
    "early_stopping = keras.callbacks.EarlyStopping(monitor='val_loss', patience=10)\n",
    "\n",
    "#Model checkpoint callback\n",
    "checkpoint = keras.callbacks.ModelCheckpoint(\n",
    "    filepath = 'models',\n",
    "    monitor = 'val_loss',\n",
    "    save_best_only = True\n",
    ")\n",
    "\n",
    "#ReduceLROnPlateau callback\n",
    "reduce_lr = keras.callbacks.ReduceLROnPlateau(\n",
    "    monitor = 'val_loss',\n",
    "    factor = 0.1,\n",
    "    patience = 2,\n",
    "    min_lr = 1e-5,\n",
    "    verbose = 1\n",
    ")\n",
    "\n",
    "#fit the model\n",
    "model_nas_net.fit(\n",
    "    train_generator,\n",
    "    epochs = 10,\n",
    "    validation_data = val_generator,\n",
    "    callbacks = [early_stopping, checkpoint, reduce_lr],\n",
    "    steps_per_epoch = len(new_train_df)/batch_size,\n",
    "    validation_steps = len(val_df)/batch_size\n",
    ")"
   ]
  }
 ],
 "metadata": {
  "interpreter": {
   "hash": "1fd4b7ef97a820aec23f863fcedcf8a4d353251253a95639f99228ffc9e7dfb3"
  },
  "kernelspec": {
   "display_name": "Python 3.9.7 ('base')",
   "language": "python",
   "name": "python3"
  },
  "language_info": {
   "codemirror_mode": {
    "name": "ipython",
    "version": 3
   },
   "file_extension": ".py",
   "mimetype": "text/x-python",
   "name": "python",
   "nbconvert_exporter": "python",
   "pygments_lexer": "ipython3",
   "version": "3.9.6"
  },
  "orig_nbformat": 4
 },
 "nbformat": 4,
 "nbformat_minor": 2
}
